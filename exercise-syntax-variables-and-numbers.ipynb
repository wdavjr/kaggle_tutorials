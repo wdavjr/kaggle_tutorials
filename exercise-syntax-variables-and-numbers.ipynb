{
 "cells": [
  {
   "cell_type": "markdown",
   "id": "3533fcb6",
   "metadata": {
    "papermill": {
     "duration": 0.007765,
     "end_time": "2023-05-01T04:06:01.935089",
     "exception": false,
     "start_time": "2023-05-01T04:06:01.927324",
     "status": "completed"
    },
    "tags": []
   },
   "source": [
    "**This notebook is an exercise in the [Python](https://www.kaggle.com/learn/python) course.  You can reference the tutorial at [this link](https://www.kaggle.com/colinmorris/hello-python).**\n",
    "\n",
    "---\n"
   ]
  },
  {
   "cell_type": "markdown",
   "id": "d8d45f75",
   "metadata": {
    "papermill": {
     "duration": 0.006461,
     "end_time": "2023-05-01T04:06:01.948421",
     "exception": false,
     "start_time": "2023-05-01T04:06:01.941960",
     "status": "completed"
    },
    "tags": []
   },
   "source": [
    "Welcome to your first set of Python coding problems.  If this is your first time using Kaggle Notebooks, welcome! \n",
    "\n",
    "Notebooks are composed of blocks (called \"cells\") of text and code. Each of these is editable, though you'll mainly be editing the code cells to answer some questions.\n",
    "\n",
    "To get started, try running the code cell below (by pressing the ► button, or clicking on the cell and pressing ctrl+enter on your keyboard)."
   ]
  },
  {
   "cell_type": "code",
   "execution_count": 1,
   "id": "94beb342",
   "metadata": {
    "execution": {
     "iopub.execute_input": "2023-05-01T04:06:01.964353Z",
     "iopub.status.busy": "2023-05-01T04:06:01.963297Z",
     "iopub.status.idle": "2023-05-01T04:06:01.975249Z",
     "shell.execute_reply": "2023-05-01T04:06:01.973878Z"
    },
    "papermill": {
     "duration": 0.022705,
     "end_time": "2023-05-01T04:06:01.977834",
     "exception": false,
     "start_time": "2023-05-01T04:06:01.955129",
     "status": "completed"
    },
    "tags": []
   },
   "outputs": [
    {
     "name": "stdout",
     "output_type": "stream",
     "text": [
      "You've successfully run some Python code\n",
      "Congratulations!\n",
      "You are really good at what you do!\n"
     ]
    }
   ],
   "source": [
    "print(\"You've successfully run some Python code\")\n",
    "print(\"Congratulations!\")\n",
    "print(\"You are really good at what you do!\")"
   ]
  },
  {
   "cell_type": "code",
   "execution_count": null,
   "id": "31566ba5",
   "metadata": {
    "papermill": {
     "duration": 0.006445,
     "end_time": "2023-05-01T04:06:01.991125",
     "exception": false,
     "start_time": "2023-05-01T04:06:01.984680",
     "status": "completed"
    },
    "tags": []
   },
   "outputs": [],
   "source": []
  },
  {
   "cell_type": "markdown",
   "id": "f5b26577",
   "metadata": {
    "papermill": {
     "duration": 0.0063,
     "end_time": "2023-05-01T04:06:02.004124",
     "exception": false,
     "start_time": "2023-05-01T04:06:01.997824",
     "status": "completed"
    },
    "tags": []
   },
   "source": [
    "Try adding another line of code in the cell above and re-running it. \n",
    "\n",
    "Now let's get a little fancier:  Add a new code cell by clicking on an existing code cell, hitting the escape key, and then hitting the `a` or `b` key.  The `a` key will add a cell above the current cell, and `b` adds a cell below.\n",
    "\n",
    "Great! Now you know how to use Notebooks.\n",
    "\n",
    "Each hands-on exercise starts by setting up our feedback and code checking mechanism. Run the code cell below to do that. Then you'll be ready to move on to question 0."
   ]
  },
  {
   "cell_type": "code",
   "execution_count": 2,
   "id": "36563b26",
   "metadata": {
    "_kg_hide-input": true,
    "_kg_hide-output": true,
    "execution": {
     "iopub.execute_input": "2023-05-01T04:06:02.019377Z",
     "iopub.status.busy": "2023-05-01T04:06:02.018951Z",
     "iopub.status.idle": "2023-05-01T04:06:02.062661Z",
     "shell.execute_reply": "2023-05-01T04:06:02.061563Z"
    },
    "papermill": {
     "duration": 0.054185,
     "end_time": "2023-05-01T04:06:02.065002",
     "exception": false,
     "start_time": "2023-05-01T04:06:02.010817",
     "status": "completed"
    },
    "tags": []
   },
   "outputs": [
    {
     "name": "stdout",
     "output_type": "stream",
     "text": [
      "Setup complete! You're ready to start question 0.\n"
     ]
    }
   ],
   "source": [
    "from learntools.core import binder; binder.bind(globals())\n",
    "from learntools.python.ex1 import *\n",
    "print(\"Setup complete! You're ready to start question 0.\")"
   ]
  },
  {
   "cell_type": "markdown",
   "id": "f1a5ae72",
   "metadata": {
    "papermill": {
     "duration": 0.006663,
     "end_time": "2023-05-01T04:06:02.078505",
     "exception": false,
     "start_time": "2023-05-01T04:06:02.071842",
     "status": "completed"
    },
    "tags": []
   },
   "source": [
    "# 0.\n",
    "\n",
    "*This is a silly question intended as an introduction to the format we use for hands-on exercises throughout all Kaggle courses.*\n",
    "\n",
    "**What is your favorite color? **\n",
    "\n",
    "To complete this question, create a variable called `color` in the cell below with an appropriate value. The function call `q0.check()` (which we've already provided in the cell below) will check your answer."
   ]
  },
  {
   "cell_type": "code",
   "execution_count": 3,
   "id": "a87064cf",
   "metadata": {
    "execution": {
     "iopub.execute_input": "2023-05-01T04:06:02.094098Z",
     "iopub.status.busy": "2023-05-01T04:06:02.093654Z",
     "iopub.status.idle": "2023-05-01T04:06:02.104707Z",
     "shell.execute_reply": "2023-05-01T04:06:02.103769Z"
    },
    "papermill": {
     "duration": 0.021452,
     "end_time": "2023-05-01T04:06:02.106893",
     "exception": false,
     "start_time": "2023-05-01T04:06:02.085441",
     "status": "completed"
    },
    "tags": []
   },
   "outputs": [
    {
     "data": {
      "application/javascript": [
       "parent.postMessage({\"jupyterEvent\": \"custom.exercise_interaction\", \"data\": {\"outcomeType\": 1, \"valueTowardsCompletion\": 0.25, \"interactionType\": 1, \"questionType\": 2, \"questionId\": \"0_ExerciseFormatTutorial\", \"learnToolsVersion\": \"0.3.4\", \"failureMessage\": \"\", \"exceptionClass\": \"\", \"trace\": \"\"}}, \"*\")"
      ],
      "text/plain": [
       "<IPython.core.display.Javascript object>"
      ]
     },
     "metadata": {},
     "output_type": "display_data"
    },
    {
     "data": {
      "text/markdown": [
       "<span style=\"color:#33cc33\">Correct:</span> What?! You got it right without needing a hint or anything? Drats. Well hey, you should still continue to the next step to get some practice asking for a hint and checking solutions. (Even though you obviously don't need any help here.)"
      ],
      "text/plain": [
       "Correct: What?! You got it right without needing a hint or anything? Drats. Well hey, you should still continue to the next step to get some practice asking for a hint and checking solutions. (Even though you obviously don't need any help here.)"
      ]
     },
     "metadata": {},
     "output_type": "display_data"
    }
   ],
   "source": [
    "# create a variable called color with an appropriate value on the line below\n",
    "# (Remember, strings in Python must be enclosed in 'single' or \"double\" quotes)\n",
    "color = \"Blue\"\n",
    "\n",
    "# Check your answer\n",
    "q0.check()"
   ]
  },
  {
   "cell_type": "markdown",
   "id": "13bdb395",
   "metadata": {
    "papermill": {
     "duration": 0.006703,
     "end_time": "2023-05-01T04:06:02.120741",
     "exception": false,
     "start_time": "2023-05-01T04:06:02.114038",
     "status": "completed"
    },
    "tags": []
   },
   "source": [
    "Didn't get the right answer? How do you not even know your own favorite color?!\n",
    "\n",
    "Delete the `#` in the line below to make one of the lines run. You can choose between getting a hint or the full answer by choosing which line to remove the `#` from. \n",
    "\n",
    "Removing the `#` is called uncommenting, because it changes that line from a \"comment\" which Python doesn't run to code, which Python does run."
   ]
  },
  {
   "cell_type": "code",
   "execution_count": 4,
   "id": "0e5d2dbb",
   "metadata": {
    "execution": {
     "iopub.execute_input": "2023-05-01T04:06:02.138351Z",
     "iopub.status.busy": "2023-05-01T04:06:02.137558Z",
     "iopub.status.idle": "2023-05-01T04:06:02.141627Z",
     "shell.execute_reply": "2023-05-01T04:06:02.140765Z"
    },
    "papermill": {
     "duration": 0.016677,
     "end_time": "2023-05-01T04:06:02.144438",
     "exception": false,
     "start_time": "2023-05-01T04:06:02.127761",
     "status": "completed"
    },
    "tags": []
   },
   "outputs": [],
   "source": [
    "#q0.hint()\n",
    "#q0.solution()"
   ]
  },
  {
   "cell_type": "markdown",
   "id": "3c4c6e5a",
   "metadata": {
    "papermill": {
     "duration": 0.007091,
     "end_time": "2023-05-01T04:06:02.158790",
     "exception": false,
     "start_time": "2023-05-01T04:06:02.151699",
     "status": "completed"
    },
    "tags": []
   },
   "source": [
    "The upcoming questions work the same way. The only thing that will change are the question numbers. For the next question, you'll call `q1.check()`, `q1.hint()`, `q1.solution()`, for question 2, you'll call `q2.check()`, and so on."
   ]
  },
  {
   "cell_type": "markdown",
   "id": "546795c1",
   "metadata": {
    "papermill": {
     "duration": 0.007558,
     "end_time": "2023-05-01T04:06:02.173401",
     "exception": false,
     "start_time": "2023-05-01T04:06:02.165843",
     "status": "completed"
    },
    "tags": []
   },
   "source": [
    "<hr/>\n",
    "\n",
    "# 1.\n",
    "\n",
    "Complete the code below. In case it's helpful, here is the table of available arithmetic operations:\n",
    "\n",
    "\n",
    "\n",
    "| Operator     | Name           | Description                                            |\n",
    "|--------------|----------------|--------------------------------------------------------|\n",
    "| ``a + b``    | Addition       | Sum of ``a`` and ``b``                                 |\n",
    "| ``a - b``    | Subtraction    | Difference of ``a`` and ``b``                          |\n",
    "| ``a * b``    | Multiplication | Product of ``a`` and ``b``                             |\n",
    "| ``a / b``    | True division  | Quotient of ``a`` and ``b``                            |\n",
    "| ``a // b``   | Floor division | Quotient of ``a`` and ``b``, removing fractional parts |\n",
    "| ``a % b``    | Modulus        | Integer remainder after division of ``a`` by ``b``     |\n",
    "| ``a ** b``   | Exponentiation | ``a`` raised to the power of ``b``                     |\n",
    "| ``-a``       | Negation       | The negative of ``a``                                  |\n",
    "\n",
    "<span style=\"display:none\"></span>\n"
   ]
  },
  {
   "cell_type": "code",
   "execution_count": 5,
   "id": "a2ad37b2",
   "metadata": {
    "execution": {
     "iopub.execute_input": "2023-05-01T04:06:02.189852Z",
     "iopub.status.busy": "2023-05-01T04:06:02.189096Z",
     "iopub.status.idle": "2023-05-01T04:06:02.198628Z",
     "shell.execute_reply": "2023-05-01T04:06:02.197420Z"
    },
    "papermill": {
     "duration": 0.020846,
     "end_time": "2023-05-01T04:06:02.201340",
     "exception": false,
     "start_time": "2023-05-01T04:06:02.180494",
     "status": "completed"
    },
    "tags": []
   },
   "outputs": [
    {
     "data": {
      "application/javascript": [
       "parent.postMessage({\"jupyterEvent\": \"custom.exercise_interaction\", \"data\": {\"outcomeType\": 1, \"valueTowardsCompletion\": 0.25, \"interactionType\": 1, \"questionType\": 1, \"questionId\": \"1_CircleArea\", \"learnToolsVersion\": \"0.3.4\", \"failureMessage\": \"\", \"exceptionClass\": \"\", \"trace\": \"\"}}, \"*\")"
      ],
      "text/plain": [
       "<IPython.core.display.Javascript object>"
      ]
     },
     "metadata": {},
     "output_type": "display_data"
    },
    {
     "data": {
      "text/markdown": [
       "<span style=\"color:#33cc33\">Correct</span>"
      ],
      "text/plain": [
       "Correct"
      ]
     },
     "metadata": {},
     "output_type": "display_data"
    }
   ],
   "source": [
    "pi = 3.14159 # approximate\n",
    "diameter = 3\n",
    "\n",
    "# Create a variable called 'radius' equal to half the diameter\n",
    "radius = diameter / 2\n",
    "\n",
    "# Create a variable called 'area', using the formula for the area of a circle: pi times the radius squared\n",
    "area = pi * radius**2\n",
    "\n",
    "# Check your answer\n",
    "q1.check()"
   ]
  },
  {
   "cell_type": "code",
   "execution_count": 6,
   "id": "477ffbb6",
   "metadata": {
    "execution": {
     "iopub.execute_input": "2023-05-01T04:06:02.218060Z",
     "iopub.status.busy": "2023-05-01T04:06:02.217651Z",
     "iopub.status.idle": "2023-05-01T04:06:02.222551Z",
     "shell.execute_reply": "2023-05-01T04:06:02.221285Z"
    },
    "papermill": {
     "duration": 0.016309,
     "end_time": "2023-05-01T04:06:02.224966",
     "exception": false,
     "start_time": "2023-05-01T04:06:02.208657",
     "status": "completed"
    },
    "tags": []
   },
   "outputs": [],
   "source": [
    "# Uncomment and run the lines below if you need help.\n",
    "#q1.hint()\n",
    "#q1.solution()"
   ]
  },
  {
   "cell_type": "markdown",
   "id": "d317b88f",
   "metadata": {
    "papermill": {
     "duration": 0.006964,
     "end_time": "2023-05-01T04:06:02.239360",
     "exception": false,
     "start_time": "2023-05-01T04:06:02.232396",
     "status": "completed"
    },
    "tags": []
   },
   "source": [
    "<hr/>\n",
    "\n",
    "# 2.\n",
    "\n",
    "Add code to the following cell to swap variables `a` and `b` (so that `a` refers to the object previously referred to by `b` and vice versa)."
   ]
  },
  {
   "cell_type": "code",
   "execution_count": 7,
   "id": "a4d0179a",
   "metadata": {
    "execution": {
     "iopub.execute_input": "2023-05-01T04:06:02.256640Z",
     "iopub.status.busy": "2023-05-01T04:06:02.255445Z",
     "iopub.status.idle": "2023-05-01T04:06:02.267426Z",
     "shell.execute_reply": "2023-05-01T04:06:02.266360Z"
    },
    "papermill": {
     "duration": 0.02314,
     "end_time": "2023-05-01T04:06:02.269792",
     "exception": false,
     "start_time": "2023-05-01T04:06:02.246652",
     "status": "completed"
    },
    "tags": []
   },
   "outputs": [
    {
     "data": {
      "application/javascript": [
       "parent.postMessage({\"jupyterEvent\": \"custom.exercise_interaction\", \"data\": {\"outcomeType\": 1, \"valueTowardsCompletion\": 0.25, \"interactionType\": 1, \"questionType\": 2, \"questionId\": \"2_VariableSwap\", \"learnToolsVersion\": \"0.3.4\", \"failureMessage\": \"\", \"exceptionClass\": \"\", \"trace\": \"\"}}, \"*\")"
      ],
      "text/plain": [
       "<IPython.core.display.Javascript object>"
      ]
     },
     "metadata": {},
     "output_type": "display_data"
    },
    {
     "data": {
      "text/markdown": [
       "<span style=\"color:#33cc33\">Correct:</span> \n",
       "\n",
       "The most straightforward solution is to use a third variable to temporarily store one of the old values. e.g.:\n",
       "\n",
       "    tmp = a\n",
       "    a = b\n",
       "    b = tmp\n",
       "\n",
       "If you've read lots of Python code, you might have seen the following trick to swap two variables in one line:\n",
       "\n",
       "    a, b = b, a\n",
       "\n",
       "We'll demystify this bit of Python magic later when we talk about *tuples*."
      ],
      "text/plain": [
       "Correct: \n",
       "\n",
       "The most straightforward solution is to use a third variable to temporarily store one of the old values. e.g.:\n",
       "\n",
       "    tmp = a\n",
       "    a = b\n",
       "    b = tmp\n",
       "\n",
       "If you've read lots of Python code, you might have seen the following trick to swap two variables in one line:\n",
       "\n",
       "    a, b = b, a\n",
       "\n",
       "We'll demystify this bit of Python magic later when we talk about *tuples*."
      ]
     },
     "metadata": {},
     "output_type": "display_data"
    }
   ],
   "source": [
    "########### Setup code - don't touch this part ######################\n",
    "# If you're curious, these are examples of lists. We'll talk about \n",
    "# them in depth a few lessons from now. For now, just know that they're\n",
    "# yet another type of Python object, like int or float.\n",
    "a = [1, 2, 3]\n",
    "b = [3, 2, 1]\n",
    "q2.store_original_ids()\n",
    "######################################################################\n",
    "\n",
    "# Your code goes here. Swap the values to which a and b refer.\n",
    "# If you get stuck, you can always uncomment one or both of the lines in\n",
    "# the next cell for a hint, or to peek at the solution.\n",
    "\n",
    "c = a\n",
    "a = b\n",
    "b = c\n",
    "######################################################################\n",
    "\n",
    "# Check your answer\n",
    "q2.check()"
   ]
  },
  {
   "cell_type": "code",
   "execution_count": 8,
   "id": "52450f4f",
   "metadata": {
    "execution": {
     "iopub.execute_input": "2023-05-01T04:06:02.287477Z",
     "iopub.status.busy": "2023-05-01T04:06:02.286761Z",
     "iopub.status.idle": "2023-05-01T04:06:02.291699Z",
     "shell.execute_reply": "2023-05-01T04:06:02.290641Z"
    },
    "papermill": {
     "duration": 0.016495,
     "end_time": "2023-05-01T04:06:02.294013",
     "exception": false,
     "start_time": "2023-05-01T04:06:02.277518",
     "status": "completed"
    },
    "tags": []
   },
   "outputs": [],
   "source": [
    "#q2.hint()"
   ]
  },
  {
   "cell_type": "code",
   "execution_count": 9,
   "id": "68b4b059",
   "metadata": {
    "execution": {
     "iopub.execute_input": "2023-05-01T04:06:02.311815Z",
     "iopub.status.busy": "2023-05-01T04:06:02.311117Z",
     "iopub.status.idle": "2023-05-01T04:06:02.315891Z",
     "shell.execute_reply": "2023-05-01T04:06:02.314943Z"
    },
    "papermill": {
     "duration": 0.01641,
     "end_time": "2023-05-01T04:06:02.318277",
     "exception": false,
     "start_time": "2023-05-01T04:06:02.301867",
     "status": "completed"
    },
    "tags": []
   },
   "outputs": [],
   "source": [
    "#q2.solution()"
   ]
  },
  {
   "cell_type": "markdown",
   "id": "8ae4c214",
   "metadata": {
    "papermill": {
     "duration": 0.00755,
     "end_time": "2023-05-01T04:06:02.334309",
     "exception": false,
     "start_time": "2023-05-01T04:06:02.326759",
     "status": "completed"
    },
    "tags": []
   },
   "source": [
    "<hr/>\n",
    "\n",
    "# 3a.\n",
    "\n",
    "Add parentheses to the following expression so that it evaluates to 1."
   ]
  },
  {
   "cell_type": "code",
   "execution_count": 10,
   "id": "0f5cd32a",
   "metadata": {
    "execution": {
     "iopub.execute_input": "2023-05-01T04:06:02.352860Z",
     "iopub.status.busy": "2023-05-01T04:06:02.352168Z",
     "iopub.status.idle": "2023-05-01T04:06:02.359430Z",
     "shell.execute_reply": "2023-05-01T04:06:02.358126Z"
    },
    "papermill": {
     "duration": 0.019519,
     "end_time": "2023-05-01T04:06:02.361756",
     "exception": false,
     "start_time": "2023-05-01T04:06:02.342237",
     "status": "completed"
    },
    "tags": []
   },
   "outputs": [
    {
     "data": {
      "text/plain": [
       "1"
      ]
     },
     "execution_count": 10,
     "metadata": {},
     "output_type": "execute_result"
    }
   ],
   "source": [
    "(5 - 3) // 2"
   ]
  },
  {
   "cell_type": "code",
   "execution_count": 11,
   "id": "3cf16b60",
   "metadata": {
    "execution": {
     "iopub.execute_input": "2023-05-01T04:06:02.379452Z",
     "iopub.status.busy": "2023-05-01T04:06:02.379024Z",
     "iopub.status.idle": "2023-05-01T04:06:02.383740Z",
     "shell.execute_reply": "2023-05-01T04:06:02.382720Z"
    },
    "papermill": {
     "duration": 0.01664,
     "end_time": "2023-05-01T04:06:02.386298",
     "exception": false,
     "start_time": "2023-05-01T04:06:02.369658",
     "status": "completed"
    },
    "tags": []
   },
   "outputs": [],
   "source": [
    "#q3.a.hint()"
   ]
  },
  {
   "cell_type": "code",
   "execution_count": 12,
   "id": "39f1854e",
   "metadata": {
    "execution": {
     "iopub.execute_input": "2023-05-01T04:06:02.404272Z",
     "iopub.status.busy": "2023-05-01T04:06:02.403406Z",
     "iopub.status.idle": "2023-05-01T04:06:02.413266Z",
     "shell.execute_reply": "2023-05-01T04:06:02.412105Z"
    },
    "papermill": {
     "duration": 0.021372,
     "end_time": "2023-05-01T04:06:02.415579",
     "exception": false,
     "start_time": "2023-05-01T04:06:02.394207",
     "status": "completed"
    },
    "tags": []
   },
   "outputs": [
    {
     "data": {
      "application/javascript": [
       "parent.postMessage({\"jupyterEvent\": \"custom.exercise_interaction\", \"data\": {\"interactionType\": 3, \"questionType\": 4, \"questionId\": \"3.1_ArithmeticParensEasy\", \"learnToolsVersion\": \"0.3.4\", \"valueTowardsCompletion\": 0.0, \"failureMessage\": \"\", \"exceptionClass\": \"\", \"trace\": \"\", \"outcomeType\": 4}}, \"*\")"
      ],
      "text/plain": [
       "<IPython.core.display.Javascript object>"
      ]
     },
     "metadata": {},
     "output_type": "display_data"
    },
    {
     "data": {
      "text/markdown": [
       "<span style=\"color:#33cc99\">Solution:</span> \n",
       "```python\n",
       "(5 - 3) // 2\n",
       "```"
      ],
      "text/plain": [
       "Solution: \n",
       "```python\n",
       "(5 - 3) // 2\n",
       "```"
      ]
     },
     "metadata": {},
     "output_type": "display_data"
    }
   ],
   "source": [
    "# Check your answer (Run this code cell to receive credit!)\n",
    "q3.a.solution()"
   ]
  },
  {
   "cell_type": "markdown",
   "id": "5180b749",
   "metadata": {
    "papermill": {
     "duration": 0.007819,
     "end_time": "2023-05-01T04:06:02.431623",
     "exception": false,
     "start_time": "2023-05-01T04:06:02.423804",
     "status": "completed"
    },
    "tags": []
   },
   "source": [
    "# 3b.  <span title=\"A bit spicy\" style=\"color: darkgreen \">🌶️</span>\n",
    "\n",
    "<small>Questions, like this one, marked a spicy pepper are a bit harder.</small>\n",
    "\n",
    "Add parentheses to the following expression so that it evaluates to 0."
   ]
  },
  {
   "cell_type": "code",
   "execution_count": 13,
   "id": "5fc2d76e",
   "metadata": {
    "execution": {
     "iopub.execute_input": "2023-05-01T04:06:02.450395Z",
     "iopub.status.busy": "2023-05-01T04:06:02.449268Z",
     "iopub.status.idle": "2023-05-01T04:06:02.456805Z",
     "shell.execute_reply": "2023-05-01T04:06:02.455766Z"
    },
    "papermill": {
     "duration": 0.019319,
     "end_time": "2023-05-01T04:06:02.459093",
     "exception": false,
     "start_time": "2023-05-01T04:06:02.439774",
     "status": "completed"
    },
    "tags": []
   },
   "outputs": [
    {
     "data": {
      "text/plain": [
       "0"
      ]
     },
     "execution_count": 13,
     "metadata": {},
     "output_type": "execute_result"
    }
   ],
   "source": [
    "(8 - 3) * (2 - (1 + 1))"
   ]
  },
  {
   "cell_type": "code",
   "execution_count": 14,
   "id": "ee4e4703",
   "metadata": {
    "execution": {
     "iopub.execute_input": "2023-05-01T04:06:02.478959Z",
     "iopub.status.busy": "2023-05-01T04:06:02.477817Z",
     "iopub.status.idle": "2023-05-01T04:06:02.483630Z",
     "shell.execute_reply": "2023-05-01T04:06:02.482503Z"
    },
    "papermill": {
     "duration": 0.018741,
     "end_time": "2023-05-01T04:06:02.486132",
     "exception": false,
     "start_time": "2023-05-01T04:06:02.467391",
     "status": "completed"
    },
    "tags": []
   },
   "outputs": [],
   "source": [
    "#q3.b.hint()"
   ]
  },
  {
   "cell_type": "code",
   "execution_count": 15,
   "id": "0e386f7e",
   "metadata": {
    "execution": {
     "iopub.execute_input": "2023-05-01T04:06:02.505346Z",
     "iopub.status.busy": "2023-05-01T04:06:02.504877Z",
     "iopub.status.idle": "2023-05-01T04:06:02.515255Z",
     "shell.execute_reply": "2023-05-01T04:06:02.513737Z"
    },
    "papermill": {
     "duration": 0.023257,
     "end_time": "2023-05-01T04:06:02.517948",
     "exception": false,
     "start_time": "2023-05-01T04:06:02.494691",
     "status": "completed"
    },
    "tags": []
   },
   "outputs": [
    {
     "data": {
      "application/javascript": [
       "parent.postMessage({\"jupyterEvent\": \"custom.exercise_interaction\", \"data\": {\"interactionType\": 3, \"questionType\": 4, \"questionId\": \"3.2_ArithmeticParensHard\", \"learnToolsVersion\": \"0.3.4\", \"valueTowardsCompletion\": 0.0, \"failureMessage\": \"\", \"exceptionClass\": \"\", \"trace\": \"\", \"outcomeType\": 4}}, \"*\")"
      ],
      "text/plain": [
       "<IPython.core.display.Javascript object>"
      ]
     },
     "metadata": {},
     "output_type": "display_data"
    },
    {
     "data": {
      "text/markdown": [
       "<span style=\"color:#33cc99\">Solution:</span> `(8 - 3) * (2 - (1 + 1))` is one solution. There may be others."
      ],
      "text/plain": [
       "Solution: `(8 - 3) * (2 - (1 + 1))` is one solution. There may be others."
      ]
     },
     "metadata": {},
     "output_type": "display_data"
    }
   ],
   "source": [
    "# Check your answer (Run this code cell to receive credit!)\n",
    "q3.b.solution()"
   ]
  },
  {
   "cell_type": "markdown",
   "id": "1398f787",
   "metadata": {
    "papermill": {
     "duration": 0.00818,
     "end_time": "2023-05-01T04:06:02.535028",
     "exception": false,
     "start_time": "2023-05-01T04:06:02.526848",
     "status": "completed"
    },
    "tags": []
   },
   "source": [
    "<hr/>\n",
    "\n",
    "# 4. \n",
    "Alice, Bob and Carol have agreed to pool their Halloween candy and split it evenly among themselves.\n",
    "For the sake of their friendship, any candies left over will be smashed. For example, if they collectively\n",
    "bring home 91 candies, they'll take 30 each and smash 1.\n",
    "\n",
    "Write an arithmetic expression below to calculate how many candies they must smash for a given haul."
   ]
  },
  {
   "cell_type": "code",
   "execution_count": 16,
   "id": "d1243f3c",
   "metadata": {
    "execution": {
     "iopub.execute_input": "2023-05-01T04:06:02.555847Z",
     "iopub.status.busy": "2023-05-01T04:06:02.553520Z",
     "iopub.status.idle": "2023-05-01T04:06:02.567002Z",
     "shell.execute_reply": "2023-05-01T04:06:02.565967Z"
    },
    "papermill": {
     "duration": 0.025886,
     "end_time": "2023-05-01T04:06:02.569503",
     "exception": false,
     "start_time": "2023-05-01T04:06:02.543617",
     "status": "completed"
    },
    "tags": []
   },
   "outputs": [
    {
     "data": {
      "application/javascript": [
       "parent.postMessage({\"jupyterEvent\": \"custom.exercise_interaction\", \"data\": {\"outcomeType\": 1, \"valueTowardsCompletion\": 0.25, \"interactionType\": 1, \"questionType\": 1, \"questionId\": \"4_CandySplitting\", \"learnToolsVersion\": \"0.3.4\", \"failureMessage\": \"\", \"exceptionClass\": \"\", \"trace\": \"\"}}, \"*\")"
      ],
      "text/plain": [
       "<IPython.core.display.Javascript object>"
      ]
     },
     "metadata": {},
     "output_type": "display_data"
    },
    {
     "data": {
      "text/markdown": [
       "<span style=\"color:#33cc33\">Correct</span>"
      ],
      "text/plain": [
       "Correct"
      ]
     },
     "metadata": {},
     "output_type": "display_data"
    }
   ],
   "source": [
    "# Variables representing the number of candies collected by alice, bob, and carol\n",
    "alice_candies = 121\n",
    "bob_candies = 77\n",
    "carol_candies = 109\n",
    "\n",
    "# Your code goes here! Replace the right-hand side of this assignment with an expression\n",
    "# involving alice_candies, bob_candies, and carol_candies\n",
    "to_smash = (alice_candies + bob_candies + carol_candies) % 3\n",
    "\n",
    "# Check your answer\n",
    "q4.check()"
   ]
  },
  {
   "cell_type": "code",
   "execution_count": 17,
   "id": "75e982bc",
   "metadata": {
    "execution": {
     "iopub.execute_input": "2023-05-01T04:06:02.589503Z",
     "iopub.status.busy": "2023-05-01T04:06:02.588670Z",
     "iopub.status.idle": "2023-05-01T04:06:02.593881Z",
     "shell.execute_reply": "2023-05-01T04:06:02.592630Z"
    },
    "papermill": {
     "duration": 0.018443,
     "end_time": "2023-05-01T04:06:02.596666",
     "exception": false,
     "start_time": "2023-05-01T04:06:02.578223",
     "status": "completed"
    },
    "tags": []
   },
   "outputs": [],
   "source": [
    "#q4.hint()\n",
    "#q4.solution()"
   ]
  },
  {
   "cell_type": "markdown",
   "id": "7826e9f5",
   "metadata": {
    "papermill": {
     "duration": 0.008709,
     "end_time": "2023-05-01T04:06:02.614492",
     "exception": false,
     "start_time": "2023-05-01T04:06:02.605783",
     "status": "completed"
    },
    "tags": []
   },
   "source": [
    "# Keep Going\n",
    "\n",
    "Next up, you'll **[learn to write new functions and understand functions others write](https://www.kaggle.com/colinmorris/functions-and-getting-help)**. This will make you at least 10 times more productive as a Python programmer. "
   ]
  },
  {
   "cell_type": "markdown",
   "id": "d3de63d3",
   "metadata": {
    "papermill": {
     "duration": 0.008554,
     "end_time": "2023-05-01T04:06:02.631907",
     "exception": false,
     "start_time": "2023-05-01T04:06:02.623353",
     "status": "completed"
    },
    "tags": []
   },
   "source": [
    "---\n",
    "\n",
    "\n",
    "\n",
    "\n",
    "*Have questions or comments? Visit the [course discussion forum](https://www.kaggle.com/learn/python/discussion) to chat with other learners.*"
   ]
  }
 ],
 "metadata": {
  "kernelspec": {
   "display_name": "Python 3",
   "language": "python",
   "name": "python3"
  },
  "language_info": {
   "codemirror_mode": {
    "name": "ipython",
    "version": 3
   },
   "file_extension": ".py",
   "mimetype": "text/x-python",
   "name": "python",
   "nbconvert_exporter": "python",
   "pygments_lexer": "ipython3",
   "version": "3.7.12"
  },
  "papermill": {
   "default_parameters": {},
   "duration": 12.215082,
   "end_time": "2023-05-01T04:06:03.364345",
   "environment_variables": {},
   "exception": null,
   "input_path": "__notebook__.ipynb",
   "output_path": "__notebook__.ipynb",
   "parameters": {},
   "start_time": "2023-05-01T04:05:51.149263",
   "version": "2.4.0"
  }
 },
 "nbformat": 4,
 "nbformat_minor": 5
}
